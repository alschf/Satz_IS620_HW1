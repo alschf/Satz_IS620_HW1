{
 "cells": [
  {
   "cell_type": "code",
   "execution_count": 1,
   "metadata": {
    "collapsed": false
   },
   "outputs": [
    {
     "name": "stderr",
     "output_type": "stream",
     "text": [
      "/Users/alexandersatz/anaconda/lib/python2.7/site-packages/matplotlib/font_manager.py:273: UserWarning: Matplotlib is building the font cache using fc-list. This may take a moment.\n",
      "  warnings.warn('Matplotlib is building the font cache using fc-list. This may take a moment.')\n"
     ]
    }
   ],
   "source": [
    "import networkx as nx\n",
    "import matplotlib.pyplot as plt"
   ]
  },
  {
   "cell_type": "code",
   "execution_count": 2,
   "metadata": {
    "collapsed": true
   },
   "outputs": [],
   "source": [
    "G=nx.Graph()"
   ]
  },
  {
   "cell_type": "code",
   "execution_count": 3,
   "metadata": {
    "collapsed": true
   },
   "outputs": [],
   "source": [
    "nodes1 = [\"Andre\", \"Carol\", \"Fernando\", \"Heather\", \"Ike\", \"Jane\", \"Diane\", \"Beverly\", \"Ed\", \"Garth\"]"
   ]
  },
  {
   "cell_type": "code",
   "execution_count": 4,
   "metadata": {
    "collapsed": false
   },
   "outputs": [],
   "source": [
    "for x in nodes1:\n",
    "    G.add_node(x)"
   ]
  },
  {
   "cell_type": "code",
   "execution_count": 5,
   "metadata": {
    "collapsed": false
   },
   "outputs": [
    {
     "name": "stdout",
     "output_type": "stream",
     "text": [
      "['Heather', 'Ed', 'Diane', 'Fernando', 'Beverly', 'Andre', 'Ike', 'Garth', 'Jane', 'Carol']\n"
     ]
    }
   ],
   "source": [
    "print(list(G.nodes()))"
   ]
  },
  {
   "cell_type": "code",
   "execution_count": 6,
   "metadata": {
    "collapsed": true
   },
   "outputs": [],
   "source": [
    "edgest1 = { }\n",
    "edgest1[\"Carol\"] = [\"Andre\", \"Fernando\", \"Diane\"]\n",
    "edgest1[\"Andre\"] = [\"Carol\", \"Fernando\", \"Diane\", \"Beverly\"]\n",
    "edgest1[\"Diane\"] = [\"Carol\", \"Fernando\", \"Andre\", \"Beverly\", \"Garth\", \"Ed\"]\n",
    "edgest1[\"Beverly\"] = [ \"Andre\", \"Diane\", \"Garth\", \"Ed\"]\n",
    "edgest1[\"Ed\"] = [\"Beverly\", \"Garth\", \"Diane\"]\n",
    "edgest1[\"Garth\"] = [\"Fernando\", \"Diane\", \"Beverly\", \"Heather\", \"Ed\"]\n",
    "edgest1[\"Fernando\"] = [\"Carol\", \"Diane\", \"Andre\", \"Heather\", \"Garth\"]\n",
    "edgest1[\"Heather\"] = [\"Fernando\", \"Garth\", \"Ike\"]\n",
    "edgest1[\"Ike\"] = [\"Heather\", \"Jane\"]\n",
    "edgest1[\"Jane\"] = [\"Ike\"]"
   ]
  },
  {
   "cell_type": "code",
   "execution_count": 7,
   "metadata": {
    "collapsed": false
   },
   "outputs": [],
   "source": [
    "for k in edgest1:\n",
    "    for x in edgest1[k]:\n",
    "        G.add_edge(k,x)\n",
    "        "
   ]
  },
  {
   "cell_type": "code",
   "execution_count": 8,
   "metadata": {
    "collapsed": false
   },
   "outputs": [
    {
     "name": "stdout",
     "output_type": "stream",
     "text": [
      "[('Heather', 'Fernando'), ('Heather', 'Ike'), ('Heather', 'Garth'), ('Ed', 'Beverly'), ('Ed', 'Diane'), ('Ed', 'Garth'), ('Diane', 'Fernando'), ('Diane', 'Andre'), ('Diane', 'Garth'), ('Diane', 'Beverly'), ('Diane', 'Carol'), ('Fernando', 'Carol'), ('Fernando', 'Garth'), ('Fernando', 'Andre'), ('Beverly', 'Garth'), ('Beverly', 'Andre'), ('Andre', 'Carol'), ('Ike', 'Jane')]\n"
     ]
    }
   ],
   "source": [
    "print(list(G.edges()))\n"
   ]
  },
  {
   "cell_type": "code",
   "execution_count": 9,
   "metadata": {
    "collapsed": false
   },
   "outputs": [],
   "source": [
    "#nx.draw(G)\n",
    "nx.draw(G)"
   ]
  },
  {
   "cell_type": "code",
   "execution_count": 10,
   "metadata": {
    "collapsed": false
   },
   "outputs": [],
   "source": [
    "plt.show()"
   ]
  },
  {
   "cell_type": "code",
   "execution_count": 13,
   "metadata": {
    "collapsed": true
   },
   "outputs": [],
   "source": []
  },
  {
   "cell_type": "code",
   "execution_count": null,
   "metadata": {
    "collapsed": true
   },
   "outputs": [],
   "source": []
  }
 ],
 "metadata": {
  "anaconda-cloud": {},
  "kernelspec": {
   "display_name": "Python [Root]",
   "language": "python",
   "name": "Python [Root]"
  },
  "language_info": {
   "codemirror_mode": {
    "name": "ipython",
    "version": 2
   },
   "file_extension": ".py",
   "mimetype": "text/x-python",
   "name": "python",
   "nbconvert_exporter": "python",
   "pygments_lexer": "ipython2",
   "version": "2.7.12"
  }
 },
 "nbformat": 4,
 "nbformat_minor": 0
}
