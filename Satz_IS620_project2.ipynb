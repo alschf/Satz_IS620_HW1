{
 "cells": [
  {
   "cell_type": "code",
   "execution_count": 1,
   "metadata": {
    "collapsed": false
   },
   "outputs": [
    {
     "name": "stderr",
     "output_type": "stream",
     "text": [
      "/Users/alexandersatz/anaconda/lib/python2.7/site-packages/matplotlib/font_manager.py:273: UserWarning: Matplotlib is building the font cache using fc-list. This may take a moment.\n",
      "  warnings.warn('Matplotlib is building the font cache using fc-list. This may take a moment.')\n"
     ]
    }
   ],
   "source": [
    "%matplotlib inline\n",
    "import matplotlib.pyplot as plot\n",
    "from networkx.algorithms import traversal\n",
    "import pandas as pd"
   ]
  },
  {
   "cell_type": "code",
   "execution_count": 3,
   "metadata": {
    "collapsed": false
   },
   "outputs": [],
   "source": [
    "df = pd.read_csv('/Users/alexandersatz/Documents/Cuny/IS620/IS620_proj2_net.csv')"
   ]
  },
  {
   "cell_type": "code",
   "execution_count": 4,
   "metadata": {
    "collapsed": false
   },
   "outputs": [
    {
     "data": {
      "text/html": [
       "<div>\n",
       "<table border=\"1\" class=\"dataframe\">\n",
       "  <thead>\n",
       "    <tr style=\"text-align: right;\">\n",
       "      <th></th>\n",
       "      <th>Source</th>\n",
       "      <th>Target</th>\n",
       "      <th>Weight</th>\n",
       "    </tr>\n",
       "  </thead>\n",
       "  <tbody>\n",
       "    <tr>\n",
       "      <th>0</th>\n",
       "      <td>Nat Methods</td>\n",
       "      <td>Adv Exp Med Biol</td>\n",
       "      <td>3</td>\n",
       "    </tr>\n",
       "    <tr>\n",
       "      <th>1</th>\n",
       "      <td>Nat Methods</td>\n",
       "      <td>Sci Rep</td>\n",
       "      <td>37</td>\n",
       "    </tr>\n",
       "    <tr>\n",
       "      <th>2</th>\n",
       "      <td>Nat Methods</td>\n",
       "      <td>Oncogene</td>\n",
       "      <td>2</td>\n",
       "    </tr>\n",
       "    <tr>\n",
       "      <th>3</th>\n",
       "      <td>Nat Methods</td>\n",
       "      <td>Mol Cell</td>\n",
       "      <td>3</td>\n",
       "    </tr>\n",
       "    <tr>\n",
       "      <th>4</th>\n",
       "      <td>Nat Methods</td>\n",
       "      <td>PLoS Genet</td>\n",
       "      <td>1</td>\n",
       "    </tr>\n",
       "  </tbody>\n",
       "</table>\n",
       "</div>"
      ],
      "text/plain": [
       "        Source            Target  Weight\n",
       "0  Nat Methods  Adv Exp Med Biol       3\n",
       "1  Nat Methods           Sci Rep      37\n",
       "2  Nat Methods          Oncogene       2\n",
       "3  Nat Methods          Mol Cell       3\n",
       "4  Nat Methods        PLoS Genet       1"
      ]
     },
     "execution_count": 4,
     "metadata": {},
     "output_type": "execute_result"
    }
   ],
   "source": [
    "df[:5]"
   ]
  },
  {
   "cell_type": "code",
   "execution_count": 5,
   "metadata": {
    "collapsed": false
   },
   "outputs": [],
   "source": [
    "import networkx as nx\n",
    "mygraph2 = nx.from_pandas_dataframe(df, 'Source', 'Target',['Weight'], create_using=nx.DiGraph())"
   ]
  },
  {
   "cell_type": "code",
   "execution_count": 9,
   "metadata": {
    "collapsed": false
   },
   "outputs": [
    {
     "name": "stdout",
     "output_type": "stream",
     "text": [
      "30384\n",
      "604\n"
     ]
    }
   ],
   "source": [
    "print (mygraph2.number_of_edges())\n",
    "print (mygraph2.number_of_nodes())"
   ]
  },
  {
   "cell_type": "code",
   "execution_count": 10,
   "metadata": {
    "collapsed": false
   },
   "outputs": [],
   "source": [
    "#nx.draw_spring(mygraph2, with_labels=True, node_size=6)\n",
    "#this is a large number of edges and nodes to visualize"
   ]
  },
  {
   "cell_type": "code",
   "execution_count": 11,
   "metadata": {
    "collapsed": false
   },
   "outputs": [
    {
     "data": {
      "text/plain": [
       "{'Cell': 0.18280632443143294,\n",
       " 'Cell Res': 0.18620230260785556,\n",
       " 'Nat Biotechnol': 0.18621988449028867,\n",
       " 'Nat Commun': 0.22057830124107797,\n",
       " 'Nature': 0.21239285036222813,\n",
       " 'Nucleic Acids Res': 0.28626899406290657,\n",
       " 'PLoS One': 0.323888854323424,\n",
       " 'Proc Natl Acad Sci U S A': 0.2401590923855716,\n",
       " 'RNA Biol': 0.1656188647878041,\n",
       " 'Sci Rep': 0.37542486951026566}"
      ]
     },
     "execution_count": 11,
     "metadata": {},
     "output_type": "execute_result"
    }
   ],
   "source": [
    "##Many authors submit in Plos One and Sci Rep, \n",
    "##and these same authers tend to also submit in the many other journals.\n",
    "\n",
    "import operator\n",
    "ei = nx.eigenvector_centrality(mygraph2, max_iter=100000, tol=1e-06, nstart=None, weight='Weight')\n",
    "dict(sorted(ei.iteritems(), key=operator.itemgetter(1), reverse=True)[:10])"
   ]
  },
  {
   "cell_type": "code",
   "execution_count": 12,
   "metadata": {
    "collapsed": false
   },
   "outputs": [
    {
     "data": {
      "text/plain": [
       "{'Cell': 0.9121061359867331,\n",
       " 'Cell Res': 0.9121061359867331,\n",
       " 'Nat Biotechnol': 0.9519071310116086,\n",
       " 'Nat Commun': 1.0746268656716418,\n",
       " 'Nature': 0.988391376451078,\n",
       " 'Nucleic Acids Res': 1.1276948590381426,\n",
       " 'Oncotarget': 0.9154228855721394,\n",
       " 'PLoS One': 1.2504145936981759,\n",
       " 'Proc Natl Acad Sci U S A': 1.1011608623548923,\n",
       " 'Sci Rep': 1.2338308457711442}"
      ]
     },
     "execution_count": 12,
     "metadata": {},
     "output_type": "execute_result"
    }
   ],
   "source": [
    "#The top two are the same for degree centrality and eigenvector centrality\n",
    "dc = nx.degree_centrality(mygraph2)  #note this does not take into account Weights\n",
    "dict(sorted(dc.iteritems(), key=operator.itemgetter(1), reverse=True)[:10])"
   ]
  },
  {
   "cell_type": "markdown",
   "metadata": {
    "collapsed": true
   },
   "source": [
    "A Newman project for this data would make little sense.  It would preferentially weight situations where journals are connected to fewer other journals..."
   ]
  },
  {
   "cell_type": "code",
   "execution_count": 19,
   "metadata": {
    "collapsed": true
   },
   "outputs": [],
   "source": [
    "def trim_edges(g, weight=1):\n",
    "    g2=nx.Graph()\n",
    "    for f, to, edata in g.edges(data=True):\n",
    "        if edata['Weight'] > weight:\n",
    "            g2.add_edge(f,to,edata)\n",
    "    return g2"
   ]
  },
  {
   "cell_type": "code",
   "execution_count": 92,
   "metadata": {
    "collapsed": true
   },
   "outputs": [],
   "source": [
    "def island_method(g, iterations=5):\n",
    "    weights= [edata['Weight'] for f,to,edata in g.edges(data=True)]\n",
    "    mn=int(min(weights))\n",
    "    mx= 100 #int(max(weights))\n",
    "    #compute the size of the step, so we get a reasonable step in iterations\n",
    "    step= 5 #int((mx-mn)/iterations)\n",
    "    return [[threshold, trim_edges(g, threshold)] for threshold in range(mn,mx,step)]"
   ]
  },
  {
   "cell_type": "code",
   "execution_count": 93,
   "metadata": {
    "collapsed": false
   },
   "outputs": [],
   "source": [
    "islands=island_method(mygraph2)"
   ]
  },
  {
   "cell_type": "markdown",
   "metadata": {},
   "source": [
    "The island methods are largely taken from the book, however the book has a typo with regard to connencted subgraphs; these objects have no length, but instead need to be converted to lists first.  I've also adjusted the step and the max, as the number of islands quickly drops.\n",
    "\n",
    "\n",
    "The technique shows that removing all edges with weight of 1 leaves 485 nodes over 3 subgraphs."
   ]
  },
  {
   "cell_type": "code",
   "execution_count": 94,
   "metadata": {
    "collapsed": false
   },
   "outputs": [
    {
     "name": "stdout",
     "output_type": "stream",
     "text": [
      "1 485 3\n",
      "6 192 2\n",
      "11 96 2\n",
      "16 56 1\n",
      "21 41 1\n",
      "26 31 1\n",
      "31 27 1\n",
      "36 21 1\n",
      "41 18 1\n",
      "46 14 1\n",
      "51 12 1\n",
      "56 10 1\n",
      "61 10 2\n",
      "66 8 1\n",
      "71 6 1\n",
      "76 5 1\n",
      "81 3 1\n",
      "86 3 1\n",
      "91 3 1\n",
      "96 2 1\n"
     ]
    }
   ],
   "source": [
    "for i in islands:\n",
    "    # print the threshold level, size of the graph, and number of connected components\n",
    "    print i[0], len(i[1]), len(list(nx.connected_component_subgraphs(i[1])))"
   ]
  },
  {
   "cell_type": "markdown",
   "metadata": {},
   "source": [
    "The 3 islands with threshold of 1, are  not terribly interesting.  As shown below, the first island has 481 nodes (too many) and the other two only have 2 nodes each (too few)"
   ]
  },
  {
   "cell_type": "code",
   "execution_count": 88,
   "metadata": {
    "collapsed": false
   },
   "outputs": [
    {
     "name": "stdout",
     "output_type": "stream",
     "text": [
      "481\n"
     ]
    }
   ],
   "source": [
    "island_list = (list(nx.connected_component_subgraphs(islands[0][1])))\n",
    "print len(island_list[0])"
   ]
  },
  {
   "cell_type": "code",
   "execution_count": 86,
   "metadata": {
    "collapsed": false
   },
   "outputs": [
    {
     "data": {
      "image/png": "[encoded data removed]",
      "text/plain": [
       "<matplotlib.figure.Figure at 0x11896b4d0>"
      ]
     },
     "metadata": {},
     "output_type": "display_data"
    }
   ],
   "source": [
    "nx.draw_spring(island_list[1], with_labels=True, node_size=6)"
   ]
  },
  {
   "cell_type": "code",
   "execution_count": 87,
   "metadata": {
    "collapsed": false
   },
   "outputs": [
    {
     "data": {
      "image/png": "[encoded data removed]",
      "text/plain": [
       "<matplotlib.figure.Figure at 0x11922e050>"
      ]
     },
     "metadata": {},
     "output_type": "display_data"
    }
   ],
   "source": [
    "nx.draw_spring(island_list[2], with_labels=True, node_size=6)"
   ]
  },
  {
   "cell_type": "code",
   "execution_count": 95,
   "metadata": {
    "collapsed": false
   },
   "outputs": [
    {
     "name": "stdout",
     "output_type": "stream",
     "text": [
      "10\n"
     ]
    }
   ],
   "source": [
    "island_list = (list(nx.connected_component_subgraphs(islands[11][1])))\n",
    "print len(island_list[0])"
   ]
  },
  {
   "cell_type": "markdown",
   "metadata": {},
   "source": [
    "Now I have set the weigth threshold at 61, which leaves me with 1 island and 10 nodes (a manageble number to plot).  As shown below, we see SciRep and Nucleic Acis Res as the most connected.  This makes sense, as these are secondary journals, easier to publish in, and in more or less the correct specialty area.  "
   ]
  },
  {
   "cell_type": "code",
   "execution_count": 96,
   "metadata": {
    "collapsed": false
   },
   "outputs": [
    {
     "data": {
      "image/png": "[encoded data removed]",
      "text/plain": [
       "<matplotlib.figure.Figure at 0x11db06dd0>"
      ]
     },
     "metadata": {},
     "output_type": "display_data"
    }
   ],
   "source": [
    "nx.draw_spring(island_list[0], with_labels=True, node_size=6)"
   ]
  },
  {
   "cell_type": "code",
   "execution_count": null,
   "metadata": {
    "collapsed": true
   },
   "outputs": [],
   "source": []
  }
 ],
 "metadata": {
  "kernelspec": {
   "display_name": "Python [Root]",
   "language": "python",
   "name": "Python [Root]"
  },
  "language_info": {
   "codemirror_mode": {
    "name": "ipython",
    "version": 2
   },
   "file_extension": ".py",
   "mimetype": "text/x-python",
   "name": "python",
   "nbconvert_exporter": "python",
   "pygments_lexer": "ipython2",
   "version": "2.7.12"
  }
 },
 "nbformat": 4,
 "nbformat_minor": 0
}
