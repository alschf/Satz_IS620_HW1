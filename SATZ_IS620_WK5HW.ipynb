{
 "cells": [
  {
   "cell_type": "code",
   "execution_count": 1,
   "metadata": {
    "collapsed": false
   },
   "outputs": [
    {
     "name": "stderr",
     "output_type": "stream",
     "text": [
      "/Users/alexandersatz/anaconda/lib/python2.7/site-packages/matplotlib/font_manager.py:273: UserWarning: Matplotlib is building the font cache using fc-list. This may take a moment.\n",
      "  warnings.warn('Matplotlib is building the font cache using fc-list. This may take a moment.')\n"
     ]
    }
   ],
   "source": [
    "%matplotlib inline\n",
    "import matplotlib.pyplot as plot\n",
    "from networkx.algorithms import traversal\n",
    "import pandas as pd"
   ]
  },
  {
   "cell_type": "code",
   "execution_count": 2,
   "metadata": {
    "collapsed": true
   },
   "outputs": [],
   "source": [
    "## don't actually need the weight column\n",
    "\n",
    "df = pd.read_csv('/Users/alexandersatz/Documents/Cuny/IS620/saveCrisprSearch.txt')\n",
    "df[\"weight\"] = [1]*len(df)\n"
   ]
  },
  {
   "cell_type": "code",
   "execution_count": 9,
   "metadata": {
    "collapsed": false
   },
   "outputs": [],
   "source": [
    "df = df.groupby(['Source','Target']).size().reset_index()"
   ]
  },
  {
   "cell_type": "code",
   "execution_count": 13,
   "metadata": {
    "collapsed": false
   },
   "outputs": [],
   "source": [
    "df = df.drop(df.index[[0]])"
   ]
  },
  {
   "cell_type": "code",
   "execution_count": 14,
   "metadata": {
    "collapsed": true
   },
   "outputs": [],
   "source": [
    "df.columns = ['Source', 'Target', 'Weight']"
   ]
  },
  {
   "cell_type": "code",
   "execution_count": 16,
   "metadata": {
    "collapsed": false
   },
   "outputs": [],
   "source": [
    "import networkx as nx\n",
    "mygraph2 = nx.from_pandas_dataframe(df, 'Source', 'Target',['Weight'], create_using=nx.Graph())"
   ]
  },
  {
   "cell_type": "code",
   "execution_count": 17,
   "metadata": {
    "collapsed": false
   },
   "outputs": [
    {
     "data": {
      "text/plain": [
       "44139"
      ]
     },
     "execution_count": 17,
     "metadata": {},
     "output_type": "execute_result"
    }
   ],
   "source": [
    "mygraph2.number_of_edges()"
   ]
  },
  {
   "cell_type": "code",
   "execution_count": 18,
   "metadata": {
    "collapsed": false
   },
   "outputs": [
    {
     "data": {
      "text/plain": [
       "7273"
      ]
     },
     "execution_count": 18,
     "metadata": {},
     "output_type": "execute_result"
    }
   ],
   "source": [
    "mygraph2.number_of_nodes()"
   ]
  },
  {
   "cell_type": "code",
   "execution_count": 20,
   "metadata": {
    "collapsed": false
   },
   "outputs": [],
   "source": [
    "from networkx import algorithms\n",
    "d = algorithms.all_pairs_shortest_path(mygraph2)"
   ]
  },
  {
   "cell_type": "code",
   "execution_count": 21,
   "metadata": {
    "collapsed": true
   },
   "outputs": [],
   "source": [
    "#iterate over dictionary of shortest walk between all nodes, and find the longest path.\n",
    "#this is the diameter.  The diameter is edges, and start is the name of the node that the path eminates from.\n",
    "\n",
    "start = -1\n",
    "end = -1\n",
    "edges = -1\n",
    "for key, value in d.iteritems():\n",
    "    for k,v in value.iteritems():\n",
    "        if (len(v)-1)> edges:\n",
    "            edges = len(v)-1\n",
    "            start = v[0]\n",
    "            end = v[-1]"
   ]
  },
  {
   "cell_type": "code",
   "execution_count": 22,
   "metadata": {
    "collapsed": false
   },
   "outputs": [
    {
     "name": "stdout",
     "output_type": "stream",
     "text": [
      "17\n",
      "Trotter EW\n"
     ]
    }
   ],
   "source": [
    "print edges  ## diameter of the graph\n",
    "print start  ## node it starts from"
   ]
  },
  {
   "cell_type": "code",
   "execution_count": 23,
   "metadata": {
    "collapsed": true
   },
   "outputs": [],
   "source": [
    "adlist = mygraph2.adjacency_list()\n",
    "largest = -1\n",
    "nodeindex = -1\n",
    "for x in range(0, len(adlist)):\n",
    "    if len(adlist[x])>largest:\n",
    "        largest = len(adlist[x])\n",
    "        nodeindex = x"
   ]
  },
  {
   "cell_type": "code",
   "execution_count": 24,
   "metadata": {
    "collapsed": false
   },
   "outputs": [
    {
     "data": {
      "text/plain": [
       "'Wang Y'"
      ]
     },
     "execution_count": 24,
     "metadata": {},
     "output_type": "execute_result"
    }
   ],
   "source": [
    "mygraph2.nodes()[nodeindex]"
   ]
  },
  {
   "cell_type": "code",
   "execution_count": 25,
   "metadata": {
    "collapsed": false
   },
   "outputs": [
    {
     "data": {
      "text/plain": [
       "304"
      ]
     },
     "execution_count": 25,
     "metadata": {},
     "output_type": "execute_result"
    }
   ],
   "source": [
    "len(adlist[nodeindex])"
   ]
  },
  {
   "cell_type": "code",
   "execution_count": 26,
   "metadata": {
    "collapsed": false
   },
   "outputs": [
    {
     "data": {
      "text/plain": [
       "['Yu H',\n",
       " 'Blaschek HP',\n",
       " 'You C',\n",
       " 'You M',\n",
       " 'Li R',\n",
       " 'Wu C',\n",
       " 'Nacson J',\n",
       " 'Ma B',\n",
       " 'Ahmed J',\n",
       " 'You W',\n",
       " 'Li H',\n",
       " 'Yim GR',\n",
       " 'Wei D',\n",
       " 'Gray NS',\n",
       " 'Ma L',\n",
       " 'Ye Z',\n",
       " 'Kjaer SK',\n",
       " 'Connolly DC',\n",
       " 'Isaka M',\n",
       " 'Lin RJ',\n",
       " 'Young RA',\n",
       " 'Pan H',\n",
       " 'Han T',\n",
       " 'Pan J',\n",
       " 'Qiu Z',\n",
       " 'Stover DG',\n",
       " 'Karlan B',\n",
       " 'Hu B',\n",
       " 'Xiao J',\n",
       " 'Wu J',\n",
       " 'Xiao H',\n",
       " 'You Y',\n",
       " 'Zhu P',\n",
       " 'Dong Z',\n",
       " 'Huo L',\n",
       " 'Han J',\n",
       " 'Benitez JJ',\n",
       " 'Wang H',\n",
       " 'Fan B',\n",
       " 'Wang F',\n",
       " 'Harrell MI',\n",
       " 'Wang C',\n",
       " 'Wu Y',\n",
       " 'Mu H',\n",
       " 'Fan X',\n",
       " 'Nicolas E',\n",
       " 'Wang Z',\n",
       " 'Wang Y',\n",
       " 'Wang X',\n",
       " 'Wu L',\n",
       " 'Nussbaum R',\n",
       " 'Zhou X',\n",
       " 'van der Gulden H',\n",
       " 'Mu Z',\n",
       " 'Seo SO',\n",
       " 'Jing N',\n",
       " 'Wang P',\n",
       " 'Ren J',\n",
       " 'Ren H',\n",
       " 'Dong F',\n",
       " 'Wu M',\n",
       " 'Ren C',\n",
       " 'Tian X',\n",
       " 'Lu Z',\n",
       " 'Peri S',\n",
       " 'Shan Q',\n",
       " 'Ren Z',\n",
       " 'Cobb RE',\n",
       " 'Smith C',\n",
       " 'Ramli MN',\n",
       " 'Wei C',\n",
       " 'Zhang K',\n",
       " 'Zuo Q',\n",
       " 'Zong Y',\n",
       " 'Smith J',\n",
       " 'Kang N',\n",
       " 'Liu G',\n",
       " 'Zhang T',\n",
       " 'Zhang W',\n",
       " 'Zhang Q',\n",
       " 'Zhang P',\n",
       " 'Liang D',\n",
       " 'Liu L',\n",
       " 'Zhang Y',\n",
       " 'Liu J',\n",
       " \"O'Brien SW\",\n",
       " 'Zhang Z',\n",
       " 'Liu W',\n",
       " 'Mendelsohn L',\n",
       " 'Yu L',\n",
       " 'Liu R',\n",
       " 'Liang Z',\n",
       " 'Yang Y',\n",
       " 'Zhang M',\n",
       " 'Zhang ZT',\n",
       " 'Krause MW',\n",
       " 'Liu Z',\n",
       " 'Liu Y',\n",
       " 'Liu X',\n",
       " 'Qiu JL',\n",
       " 'Bouwman P',\n",
       " 'Yang L',\n",
       " 'Giacalone J',\n",
       " 'Hua Z',\n",
       " 'Kou X',\n",
       " 'Yang B',\n",
       " 'Yang G',\n",
       " 'Gowher A',\n",
       " 'Lawrence-Dill CJ',\n",
       " 'Mark WH',\n",
       " 'Zhao Y',\n",
       " 'Xie Z',\n",
       " 'Chong BY',\n",
       " 'Chua MZ',\n",
       " 'Tan MH',\n",
       " 'Lambrechts D',\n",
       " 'Jin G',\n",
       " 'Zarecor S',\n",
       " 'Shi L',\n",
       " 'Ji Y',\n",
       " 'Shi H',\n",
       " 'Zhang L',\n",
       " \"D'Andrea AD\",\n",
       " 'Brazelton VA Jr',\n",
       " 'Shi B',\n",
       " 'Jin K',\n",
       " 'Gurr GM',\n",
       " 'Gourley C',\n",
       " 'Xu X',\n",
       " 'Bi Y',\n",
       " 'Al Yaghchi C',\n",
       " 'Lei A',\n",
       " 'Jin Y',\n",
       " 'Wu X',\n",
       " 'Xie C',\n",
       " 'Chang T',\n",
       " 'Shen B',\n",
       " 'Du L',\n",
       " 'Yang Z',\n",
       " 'Jiang C',\n",
       " 'Johnson N',\n",
       " 'Shen Y',\n",
       " 'Johnson T',\n",
       " 'Zheng X',\n",
       " 'Jiang Y',\n",
       " 'Swisher EM',\n",
       " 'Xiang J',\n",
       " 'Du Y',\n",
       " 'Lemoine NR',\n",
       " 'Tang F',\n",
       " 'Cheng L',\n",
       " 'Greene MH',\n",
       " 'Zhu X',\n",
       " 'Schmidt H',\n",
       " 'Zhao JJ',\n",
       " 'Yuan Y',\n",
       " 'Gayther SA',\n",
       " 'Iglehart JD',\n",
       " 'Chenevix-Trench G',\n",
       " 'Brodsky RA',\n",
       " 'Zhu H',\n",
       " 'Cheng X',\n",
       " 'James AA',\n",
       " 'Cai B',\n",
       " 'Serra V',\n",
       " 'Zhu C',\n",
       " 'Yi L',\n",
       " 'Xiao L',\n",
       " 'Yuan M',\n",
       " 'Abraham BJ',\n",
       " 'Qu L',\n",
       " 'Cheng S',\n",
       " 'Chen Z',\n",
       " 'Ju XD',\n",
       " 'Chen X',\n",
       " 'Chen Y',\n",
       " 'Seydoux G',\n",
       " 'Tan C',\n",
       " 'Abalde-Atristain L',\n",
       " 'Chen Q',\n",
       " 'Krais JJ',\n",
       " 'Fang Y',\n",
       " 'Chen T',\n",
       " 'Chen J',\n",
       " 'Chen K',\n",
       " 'Chen H',\n",
       " 'Jonkers J',\n",
       " 'Wei H',\n",
       " 'Chen B',\n",
       " 'Yin K',\n",
       " 'Chen F',\n",
       " 'Li Q',\n",
       " 'Li S',\n",
       " 'Cruz C',\n",
       " 'Wiest DL',\n",
       " 'Von T',\n",
       " 'Li X',\n",
       " 'Li Z',\n",
       " 'Zhang X',\n",
       " 'Feng B',\n",
       " 'Chard L',\n",
       " 'Jung J',\n",
       " 'Zhang YP',\n",
       " 'Gao J',\n",
       " 'Mei Y',\n",
       " 'Li L',\n",
       " 'Gore A',\n",
       " 'Niu Y',\n",
       " 'Yu AY',\n",
       " 'Yan W',\n",
       " 'Huang H',\n",
       " 'Smith HE',\n",
       " 'Huang J',\n",
       " 'Balmana J',\n",
       " 'Lu T',\n",
       " 'Yan Y',\n",
       " 'Zhong GY',\n",
       " 'Zhou G',\n",
       " 'Huang X',\n",
       " 'Huang Y',\n",
       " 'Xiong Q',\n",
       " 'Lu D',\n",
       " 'Lim E',\n",
       " 'Pharoah PD',\n",
       " 'Zhang J',\n",
       " 'Yan H',\n",
       " 'Wen B',\n",
       " 'Huang S',\n",
       " 'Lee CY',\n",
       " 'Duan W',\n",
       " 'He C',\n",
       " 'Calidas D',\n",
       " 'Zhou R',\n",
       " 'van der Heijden I',\n",
       " 'Tang B',\n",
       " 'Zhou C',\n",
       " 'Li BL',\n",
       " 'Zeng B',\n",
       " 'Gao C',\n",
       " 'Song L',\n",
       " 'Yee JK',\n",
       " 'Luo J',\n",
       " 'Liu KI',\n",
       " 'Laible G',\n",
       " 'Song J',\n",
       " 'He X',\n",
       " 'Lynn P',\n",
       " 'Zhou H',\n",
       " 'Tang W',\n",
       " 'Zhou J',\n",
       " 'Wang J',\n",
       " 'Lian Z',\n",
       " 'Wright DA',\n",
       " 'Hui Y',\n",
       " 'Cao J',\n",
       " 'Cui D',\n",
       " 'Zhao F',\n",
       " 'Kwiatkowski N',\n",
       " 'Zhao H',\n",
       " 'Guo H',\n",
       " 'Zhao L',\n",
       " 'Song BL',\n",
       " 'Ingenito J',\n",
       " 'Zhao R',\n",
       " 'Gao S',\n",
       " 'Zhao T',\n",
       " 'Sun ZS',\n",
       " 'Hu F',\n",
       " 'Zhao X',\n",
       " 'Lian C',\n",
       " 'Sadetzki S',\n",
       " 'Hu J',\n",
       " 'Candido Dos Reis FJ',\n",
       " 'Jin YS',\n",
       " 'Romanienko PJ',\n",
       " 'Xie S',\n",
       " 'Paix A',\n",
       " 'Li J',\n",
       " 'Du JL',\n",
       " 'Liao J',\n",
       " 'Gao Y',\n",
       " 'Zhou B',\n",
       " 'Dai Y',\n",
       " 'Shapiro GI',\n",
       " 'Yuzugullu H',\n",
       " 'Bai M',\n",
       " 'Wu Z',\n",
       " 'Bernhardy AJ',\n",
       " 'Lee JH',\n",
       " 'Sun XF',\n",
       " 'Webb E',\n",
       " 'Olsson H',\n",
       " 'Li B',\n",
       " 'Johnson SF',\n",
       " 'Lin X',\n",
       " 'Gore M',\n",
       " 'Lin Z',\n",
       " 'Hou Z',\n",
       " 'Chi L',\n",
       " 'Lee TI',\n",
       " 'Daly MB',\n",
       " 'Yin Q',\n",
       " 'Wang ZC',\n",
       " 'Williams NL']"
      ]
     },
     "execution_count": 26,
     "metadata": {},
     "output_type": "execute_result"
    }
   ],
   "source": [
    "## assign centrality number to authors\n",
    "ac = {}\n",
    "for "
   ]
  },
  {
   "cell_type": "code",
   "execution_count": 28,
   "metadata": {
    "collapsed": false
   },
   "outputs": [],
   "source": [
    "dc = nx.degree_centrality(mygraph2)  #note this does not take into account Weights"
   ]
  },
  {
   "cell_type": "code",
   "execution_count": 49,
   "metadata": {
    "collapsed": false
   },
   "outputs": [
    {
     "data": {
      "text/plain": [
       "{'Chen Y': 0.030528052805280526,\n",
       " 'Li J': 0.020214521452145213,\n",
       " 'Li Y': 0.026265126512651265,\n",
       " 'Liu Y': 0.022827282728272825,\n",
       " 'Wang J': 0.027777777777777776,\n",
       " 'Wang L': 0.02048954895489549,\n",
       " 'Wang Y': 0.04194169416941694,\n",
       " 'Zhang F': 0.025715071507150713,\n",
       " 'Zhang X': 0.025577557755775575,\n",
       " 'Zhang Y': 0.03465346534653465}"
      ]
     },
     "execution_count": 49,
     "metadata": {},
     "output_type": "execute_result"
    }
   ],
   "source": [
    "import operator\n",
    "dict(sorted(dc.iteritems(), key=operator.itemgetter(1), reverse=True)[:10])"
   ]
  },
  {
   "cell_type": "code",
   "execution_count": 52,
   "metadata": {
    "collapsed": false
   },
   "outputs": [],
   "source": [
    "ei = nx.eigenvector_centrality(mygraph2, max_iter=100000, tol=1e-06, nstart=None, weight='Weight')"
   ]
  },
  {
   "cell_type": "code",
   "execution_count": 53,
   "metadata": {
    "collapsed": false
   },
   "outputs": [
    {
     "data": {
      "text/plain": [
       "{'Chen Y': 0.31702725060315556,\n",
       " 'Huang X': 0.20911359678983832,\n",
       " 'Liu Y': 0.15909120104745392,\n",
       " 'Wang J': 0.20185121830875025,\n",
       " 'Wang L': 0.15864350453923753,\n",
       " 'Wang X': 0.14058000217999805,\n",
       " 'Wang Y': 0.34719897230634067,\n",
       " 'Zhang X': 0.13596102393526785,\n",
       " 'Zhang Y': 0.24369963755155757,\n",
       " 'Zhou J': 0.1727450448934008}"
      ]
     },
     "execution_count": 53,
     "metadata": {},
     "output_type": "execute_result"
    }
   ],
   "source": [
    "dict(sorted(ei.iteritems(), key=operator.itemgetter(1), reverse=True)[:10])"
   ]
  },
  {
   "cell_type": "code",
   "execution_count": 85,
   "metadata": {
    "collapsed": false
   },
   "outputs": [],
   "source": [
    "#open file with node names and 1 for USA, 0 for not USA\n",
    "file = open('/Users/alexandersatz/Documents/Cuny/IS620/saveCrisprAuthorAffilUSA.txt', 'r')\n"
   ]
  },
  {
   "cell_type": "code",
   "execution_count": null,
   "metadata": {
    "collapsed": true
   },
   "outputs": [],
   "source": []
  },
  {
   "cell_type": "code",
   "execution_count": 86,
   "metadata": {
    "collapsed": true
   },
   "outputs": [],
   "source": [
    "USAdict = {}\n",
    "for line in file:\n",
    "    line = line.replace(\"\\n\", \"\")\n",
    "    line = line.split(\",\")\n",
    "    \n",
    "    USAdict[line[0]] = line[1]\n",
    "    "
   ]
  },
  {
   "cell_type": "code",
   "execution_count": 94,
   "metadata": {
    "collapsed": false
   },
   "outputs": [],
   "source": [
    "## generate dict with categorical values for in the USA or not, and eigen_centrality score\n",
    "USA_deg = []\n",
    "for k,v in ei.iteritems():\n",
    "    try:\n",
    "        cat = USAdict[k]\n",
    "        USA_deg.append([int(cat),v])\n",
    "    except KeyError: \n",
    "        j = 4\n",
    "        \n"
   ]
  },
  {
   "cell_type": "code",
   "execution_count": 96,
   "metadata": {
    "collapsed": false
   },
   "outputs": [],
   "source": [
    "listUSA = []\n",
    "listNotUSA = []\n",
    "for x in USA_deg:\n",
    "    if x[0] == 1:\n",
    "        listUSA.append(x[1])\n",
    "    else:\n",
    "        listNotUSA.append(x[1])"
   ]
  },
  {
   "cell_type": "code",
   "execution_count": 97,
   "metadata": {
    "collapsed": true
   },
   "outputs": [],
   "source": [
    "import numpy as np\n",
    "usa = np.asarray(listUSA)"
   ]
  },
  {
   "cell_type": "code",
   "execution_count": 98,
   "metadata": {
    "collapsed": false
   },
   "outputs": [
    {
     "data": {
      "text/plain": [
       "0.0027546401919910962"
      ]
     },
     "execution_count": 98,
     "metadata": {},
     "output_type": "execute_result"
    }
   ],
   "source": [
    "usa.mean()"
   ]
  },
  {
   "cell_type": "code",
   "execution_count": 100,
   "metadata": {
    "collapsed": false
   },
   "outputs": [
    {
     "data": {
      "text/plain": [
       "4.8123564154084448"
      ]
     },
     "execution_count": 100,
     "metadata": {},
     "output_type": "execute_result"
    }
   ],
   "source": [
    "usa.sum()"
   ]
  },
  {
   "cell_type": "code",
   "execution_count": 101,
   "metadata": {
    "collapsed": true
   },
   "outputs": [],
   "source": [
    "n_usa = np.asarray(listNotUSA)"
   ]
  },
  {
   "cell_type": "code",
   "execution_count": 102,
   "metadata": {
    "collapsed": false
   },
   "outputs": [
    {
     "data": {
      "text/plain": [
       "0.0039833187437337998"
      ]
     },
     "execution_count": 102,
     "metadata": {},
     "output_type": "execute_result"
    }
   ],
   "source": [
    "n_usa.mean()"
   ]
  },
  {
   "cell_type": "code",
   "execution_count": 103,
   "metadata": {
    "collapsed": false
   },
   "outputs": [
    {
     "data": {
      "text/plain": [
       "13.714566434675472"
      ]
     },
     "execution_count": 103,
     "metadata": {},
     "output_type": "execute_result"
    }
   ],
   "source": [
    "n_usa.sum()"
   ]
  },
  {
   "cell_type": "code",
   "execution_count": 104,
   "metadata": {
    "collapsed": false
   },
   "outputs": [
    {
     "name": "stdout",
     "output_type": "stream",
     "text": [
      "1747\n",
      "3443\n"
     ]
    }
   ],
   "source": [
    "print len(usa)\n",
    "print len(n_usa)"
   ]
  },
  {
   "cell_type": "code",
   "execution_count": 107,
   "metadata": {
    "collapsed": false
   },
   "outputs": [
    {
     "data": {
      "text/plain": [
       "[0.31702725060315556,\n",
       " 0.13129436038718176,\n",
       " 0.098979620594282586,\n",
       " 0.081004716255658415,\n",
       " 0.073151706103078418,\n",
       " 0.067035154755228851,\n",
       " 0.066231521917211697,\n",
       " 0.060744541483495715,\n",
       " 0.056845696477924409,\n",
       " 0.050277154304509346]"
      ]
     },
     "execution_count": 107,
     "metadata": {},
     "output_type": "execute_result"
    }
   ],
   "source": [
    "sorted(usa, reverse = True)[:10]"
   ]
  },
  {
   "cell_type": "code",
   "execution_count": 108,
   "metadata": {
    "collapsed": false
   },
   "outputs": [
    {
     "data": {
      "text/plain": [
       "[0.34719897230634067,\n",
       " 0.24369963755155757,\n",
       " 0.20911359678983832,\n",
       " 0.20185121830875025,\n",
       " 0.17274504489340081,\n",
       " 0.15909120104745392,\n",
       " 0.15864350453923753,\n",
       " 0.14058000217999805,\n",
       " 0.13596102393526785,\n",
       " 0.13457043296658514]"
      ]
     },
     "execution_count": 108,
     "metadata": {},
     "output_type": "execute_result"
    }
   ],
   "source": [
    "#The non-usa authros have a much smaller dropoff\n",
    "sorted(n_usa, reverse = True)[:10]"
   ]
  },
  {
   "cell_type": "code",
   "execution_count": 114,
   "metadata": {
    "collapsed": false
   },
   "outputs": [
    {
     "name": "stdout",
     "output_type": "stream",
     "text": [
      "0.000211289486903\n",
      "0.000112990091935\n",
      "0.00122867855174\n"
     ]
    }
   ],
   "source": [
    "## we see below that the difference in the mean is 10x variance\n",
    "print np.var(n_usa)\n",
    "print np.var(usa)\n",
    "print n_usa.mean() - usa.mean()\n"
   ]
  },
  {
   "cell_type": "code",
   "execution_count": 112,
   "metadata": {
    "collapsed": true
   },
   "outputs": [],
   "source": [
    "from scipy import stats"
   ]
  },
  {
   "cell_type": "code",
   "execution_count": 113,
   "metadata": {
    "collapsed": false
   },
   "outputs": [
    {
     "data": {
      "text/plain": [
       "Ttest_indResult(statistic=3.4600457499160808, pvalue=0.00054504222254415262)"
      ]
     },
     "execution_count": 113,
     "metadata": {},
     "output_type": "execute_result"
    }
   ],
   "source": [
    "# not surprisingly the pvalue is well below 5%\n",
    "# set equal_var to FAlse, should run Welch's t-test\n",
    "# which is good for unequal variance and sample sizes\n",
    "stats.ttest_ind(n_usa,usa, equal_var = False)"
   ]
  },
  {
   "cell_type": "code",
   "execution_count": null,
   "metadata": {
    "collapsed": true
   },
   "outputs": [],
   "source": []
  }
 ],
 "metadata": {
  "kernelspec": {
   "display_name": "Python [Root]",
   "language": "python",
   "name": "Python [Root]"
  },
  "language_info": {
   "codemirror_mode": {
    "name": "ipython",
    "version": 2
   },
   "file_extension": ".py",
   "mimetype": "text/x-python",
   "name": "python",
   "nbconvert_exporter": "python",
   "pygments_lexer": "ipython2",
   "version": "2.7.12"
  }
 },
 "nbformat": 4,
 "nbformat_minor": 0
}
