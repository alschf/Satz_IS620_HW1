{
 "cells": [
  {
   "cell_type": "code",
   "execution_count": 1,
   "metadata": {
    "collapsed": true
   },
   "outputs": [],
   "source": [
    "import nltk"
   ]
  },
  {
   "cell_type": "markdown",
   "metadata": {},
   "source": [
    "\n",
    "\n",
    "1. Choose a corpus of interest.\n",
    "    Dracula \n",
    "2. How many total unique words are in the corpus? (Please feel free to define unique words in any interesting, defensible way).\n",
    "    20,016 words after removing punctuation\n",
    "    \n",
    "3. Taking the most common words, how many unique words represent half of the total words in the corpus?\n",
    "    The top 88 words account for 50% of the text\n",
    "4. Identify the 200 highest frequency words in this corpus.\n",
    "    done, see script\n",
    "5. Create a graph that shows the relative frequency of these 200 words.\n",
    "    see below graph (the first)\n",
    "6. Does the observed relative frequency of these words follow Zipf’s law? Explain.\n",
    "    see below graph (the last one).  Yes, Zipf's law is followed, although the highest freq words diverge\n",
    "7. In what ways do you think the frequency of the words in this corpus differ from “all words in all corpora.”\n",
    "    Looking at the Zipfs law on wikipedia, shows a better fit for large amounts of material.  One theory is that\n",
    "    Zipfs law is followed due to laziness, perhaps novels attempt to avoid repeating words too often."
   ]
  },
  {
   "cell_type": "code",
   "execution_count": 102,
   "metadata": {
    "collapsed": true
   },
   "outputs": [],
   "source": [
    "#open my file\n",
    "f = open('/Users/alexandersatz/Documents/Cuny/IS620/dracula.txt')"
   ]
  },
  {
   "cell_type": "code",
   "execution_count": 103,
   "metadata": {
    "collapsed": false
   },
   "outputs": [],
   "source": [
    "# need to get rid of newline characters and convert to a string.\n",
    "# most annoyingly, theres some character that the tokenizer can't recognize.\n",
    "# and I need to ignore this\n",
    "s = ''\n",
    "for line in f:\n",
    "    line = line.strip()\n",
    "    line = line.decode('utf-8', 'ignore')\n",
    "    s = s + line"
   ]
  },
  {
   "cell_type": "code",
   "execution_count": 104,
   "metadata": {
    "collapsed": false
   },
   "outputs": [],
   "source": [
    "# now I can tokenize the string\n",
    "tokens = nltk.word_tokenize(s)"
   ]
  },
  {
   "cell_type": "code",
   "execution_count": 106,
   "metadata": {
    "collapsed": false
   },
   "outputs": [
    {
     "data": {
      "text/plain": [
       "181846"
      ]
     },
     "execution_count": 106,
     "metadata": {},
     "output_type": "execute_result"
    }
   ],
   "source": [
    "len(tokens)"
   ]
  },
  {
   "cell_type": "code",
   "execution_count": 107,
   "metadata": {
    "collapsed": false
   },
   "outputs": [],
   "source": [
    "f = nltk.FreqDist(tokens)"
   ]
  },
  {
   "cell_type": "code",
   "execution_count": 109,
   "metadata": {
    "collapsed": false
   },
   "outputs": [
    {
     "data": {
      "text/plain": [
       "[(u',', 11394),\n",
       " (u'.', 6585),\n",
       " (u'the', 6410),\n",
       " (u'and', 5209),\n",
       " (u'I', 4356),\n",
       " (u'to', 3990),\n",
       " (u'of', 3273),\n",
       " (u'a', 2586),\n",
       " (u'in', 2216),\n",
       " (u'that', 2144)]"
      ]
     },
     "execution_count": 109,
     "metadata": {},
     "output_type": "execute_result"
    }
   ],
   "source": [
    "## Many of these 'words' are punctuation, so I want to get rid of these\n",
    "f.most_common(10)"
   ]
  },
  {
   "cell_type": "code",
   "execution_count": 112,
   "metadata": {
    "collapsed": false
   },
   "outputs": [],
   "source": [
    "#open my file\n",
    "import string\n",
    "f = open('/Users/alexandersatz/Documents/Cuny/IS620/dracula.txt')\n",
    "s = ''\n",
    "exclude = set(string.punctuation)\n",
    "for line in f:\n",
    "    line = line.strip()\n",
    "    line = line.decode('utf-8', 'ignore')\n",
    "    line = ''.join(ch for ch in line if ch not in exclude)  ## get rid of punctuation\n",
    "    s = s + line"
   ]
  },
  {
   "cell_type": "code",
   "execution_count": 113,
   "metadata": {
    "collapsed": false
   },
   "outputs": [
    {
     "data": {
      "text/plain": [
       "[(u'the', 6362),\n",
       " (u'and', 4964),\n",
       " (u'I', 4058),\n",
       " (u'to', 3971),\n",
       " (u'of', 3259),\n",
       " (u'a', 2571),\n",
       " (u'in', 2196),\n",
       " (u'that', 2097),\n",
       " (u'he', 1724),\n",
       " (u'was', 1618)]"
      ]
     },
     "execution_count": 113,
     "metadata": {},
     "output_type": "execute_result"
    }
   ],
   "source": [
    "## now I am only looking at words\n",
    "tokens2 = nltk.word_tokenize(s)\n",
    "f2 = nltk.FreqDist(tokens2)\n",
    "f2.most_common(10)"
   ]
  },
  {
   "cell_type": "code",
   "execution_count": 158,
   "metadata": {
    "collapsed": false
   },
   "outputs": [
    {
     "data": {
      "text/plain": [
       "20617"
      ]
     },
     "execution_count": 158,
     "metadata": {},
     "output_type": "execute_result"
    }
   ],
   "source": [
    "l1 = s.split()\n",
    "len(set(l1))"
   ]
  },
  {
   "cell_type": "code",
   "execution_count": 163,
   "metadata": {
    "collapsed": false
   },
   "outputs": [
    {
     "data": {
      "text/plain": [
       "88"
      ]
     },
     "execution_count": 163,
     "metadata": {},
     "output_type": "execute_result"
    }
   ],
   "source": [
    "fall = f2.most_common(20000)\n",
    "t = 0\n",
    "x = 0\n",
    "while t <0.5:\n",
    "    t += f2.freq(fall[x][0])\n",
    "    x += 1\n",
    "x"
   ]
  },
  {
   "cell_type": "code",
   "execution_count": 162,
   "metadata": {
    "collapsed": false
   },
   "outputs": [
    {
     "data": {
      "text/plain": [
       "0.0422275321916899"
      ]
     },
     "execution_count": 162,
     "metadata": {},
     "output_type": "execute_result"
    }
   ],
   "source": [
    "f2.freq('the')"
   ]
  },
  {
   "cell_type": "code",
   "execution_count": 115,
   "metadata": {
    "collapsed": true
   },
   "outputs": [],
   "source": [
    "th = f2.most_common(200)"
   ]
  },
  {
   "cell_type": "code",
   "execution_count": 120,
   "metadata": {
    "collapsed": false
   },
   "outputs": [
    {
     "data": {
      "text/plain": [
       "u'a'"
      ]
     },
     "execution_count": 120,
     "metadata": {},
     "output_type": "execute_result"
    }
   ],
   "source": [
    "th[5][0]"
   ]
  },
  {
   "cell_type": "code",
   "execution_count": 121,
   "metadata": {
    "collapsed": false
   },
   "outputs": [],
   "source": [
    "lw = []\n",
    "lf = []\n",
    "for x in th:\n",
    "    lw.append(x[0])\n",
    "    lf.append(f2.freq(x[0]))\n",
    "    "
   ]
  },
  {
   "cell_type": "code",
   "execution_count": 125,
   "metadata": {
    "collapsed": false
   },
   "outputs": [
    {
     "name": "stderr",
     "output_type": "stream",
     "text": [
      "/Users/alexandersatz/anaconda/lib/python2.7/site-packages/matplotlib/font_manager.py:273: UserWarning: Matplotlib is building the font cache using fc-list. This may take a moment.\n",
      "  warnings.warn('Matplotlib is building the font cache using fc-list. This may take a moment.')\n"
     ]
    }
   ],
   "source": [
    "%matplotlib inline\n",
    "\n",
    "import matplotlib\n",
    "import numpy as np\n",
    "import matplotlib.pyplot as plt"
   ]
  },
  {
   "cell_type": "code",
   "execution_count": 136,
   "metadata": {
    "collapsed": false
   },
   "outputs": [
    {
     "data": {
      "image/png": "[encoded data removed]",
      "text/plain": [
       "<matplotlib.figure.Figure at 0x1160e5710>"
      ]
     },
     "metadata": {},
     "output_type": "display_data"
    }
   ],
   "source": [
    "x = list(range(len(lw)-50))\n",
    "fig = plt.figure(figsize=(13, 5), dpi=100)\n",
    "plt.plot(x, lf[:-50], 'ro')\n",
    "plt.xticks(x, lw[:-50], rotation='vertical')\n",
    "#plt.margins(0.2)\n",
    "plt.show()"
   ]
  },
  {
   "cell_type": "code",
   "execution_count": 152,
   "metadata": {
    "collapsed": false
   },
   "outputs": [
    {
     "data": {
      "image/png": "[encoded data removed]",
      "text/plain": [
       "<matplotlib.figure.Figure at 0x111cf5690>"
      ]
     },
     "metadata": {},
     "output_type": "display_data"
    }
   ],
   "source": [
    "import math\n",
    "xa = list(range(len(lw)))\n",
    "xb = []\n",
    "for x in xa:\n",
    "    xb.append(math.log(float(x+1),2))\n",
    "lnew = []\n",
    "for x in lf:\n",
    "    lnew.append(math.log(x,2))\n",
    "plt.plot(xb, lnew, 'ro')\n",
    "plt.show()"
   ]
  },
  {
   "cell_type": "code",
   "execution_count": null,
   "metadata": {
    "collapsed": true
   },
   "outputs": [],
   "source": []
  }
 ],
 "metadata": {
  "anaconda-cloud": {},
  "kernelspec": {
   "display_name": "Python [Root]",
   "language": "python",
   "name": "Python [Root]"
  },
  "language_info": {
   "codemirror_mode": {
    "name": "ipython",
    "version": 2
   },
   "file_extension": ".py",
   "mimetype": "text/x-python",
   "name": "python",
   "nbconvert_exporter": "python",
   "pygments_lexer": "ipython2",
   "version": "2.7.12"
  }
 },
 "nbformat": 4,
 "nbformat_minor": 0
}
